{
 "cells": [
  {
   "cell_type": "markdown",
   "metadata": {},
   "source": [
    "# Week 4 - Numpy and Pandas"
   ]
  },
  {
   "cell_type": "code",
   "execution_count": null,
   "metadata": {
    "collapsed": true
   },
   "outputs": [],
   "source": [
    "import pandas as pd\n",
    "import numpy as np\n",
    "import random"
   ]
  },
  {
   "cell_type": "markdown",
   "metadata": {},
   "source": [
    "## Numpy\n",
    "* NumPy gives Python fast, homogeneous n-dimensional arrays.\n",
    "* NumPy arrays are distinct from Python's base `list`"
   ]
  },
  {
   "cell_type": "code",
   "execution_count": null,
   "metadata": {
    "collapsed": true
   },
   "outputs": [],
   "source": [
    "# Heterogeneous `list`s are A-OK\n",
    "# We can easily mix types with the built-in Python list system\n",
    "python_list = [True, 0, 'my string', {1:2, 3:4}]"
   ]
  },
  {
   "cell_type": "code",
   "execution_count": null,
   "metadata": {
    "collapsed": true
   },
   "outputs": [],
   "source": [
    "# NumPy arrays most performant when they're homogenous\n",
    "numpy_arr = np.array([1, 2, 3, 4, 5])\n",
    "print(numpy_arr)\n",
    "print(numpy_arr.dtype)"
   ]
  },
  {
   "cell_type": "code",
   "execution_count": null,
   "metadata": {
    "collapsed": true
   },
   "outputs": [],
   "source": [
    "# If we pass more than one type to a NumPy array, everything becomes an 'object'\n",
    "# :(\n",
    "# (This is OK, but we use NumPy for fast things, not objects)\n",
    "numpy_fail = np.array(python_list)\n",
    "print(numpy_fail.dtype)"
   ]
  },
  {
   "cell_type": "code",
   "execution_count": null,
   "metadata": {
    "collapsed": true
   },
   "outputs": [],
   "source": [
    "# NumPy allows you to do operations on entire arrays at once\n",
    "my_arr = np.arange(100)\n",
    "print(\"Just some integers: \" + str(my_arr[:10]))\n",
    "\n",
    "my_arr += 10\n",
    "print(\"Integers plus 10: \" + str(my_arr[:10]))\n",
    "\n",
    "my_arr %= 3\n",
    "print(\"Integers plus 10 mod 3: \" + str(my_arr[:10]))"
   ]
  },
  {
   "cell_type": "code",
   "execution_count": null,
   "metadata": {
    "collapsed": true
   },
   "outputs": [],
   "source": [
    "# NumPy also gives you some helper functions\n",
    "my_arr = np.array([random.randint(-1000, 1000) for _ in range(10)])\n",
    "print(my_arr)\n",
    "print(my_arr.max())\n",
    "print(my_arr.min())\n",
    "print(np.average(my_arr))\n",
    "print(np.median(my_arr))\n",
    "print(np.cumsum(my_arr))\n",
    "print(np.cumprod(my_arr))\n"
   ]
  },
  {
   "cell_type": "code",
   "execution_count": null,
   "metadata": {
    "collapsed": true
   },
   "outputs": [],
   "source": [
    "# NumPy also supports multidimensional arrays\n",
    "arr_2d = np.array([np.arange(10 * i, 10 * i + 10) for i in range(10)])\n",
    "print(arr_2d)"
   ]
  },
  {
   "cell_type": "code",
   "execution_count": null,
   "metadata": {
    "collapsed": true
   },
   "outputs": [],
   "source": [
    "# Arrays can also be easily 'reshaped'\n",
    "print(arr_2d.reshape(20, 5))\n",
    "print(arr_2d.reshape(2, 50))"
   ]
  },
  {
   "cell_type": "code",
   "execution_count": null,
   "metadata": {
    "collapsed": true
   },
   "outputs": [],
   "source": [
    "# We can do slices on 1d and 2d numpy arrays\n",
    "print(np.arange(10)[5:])\n",
    "print(np.arange(100).reshape(10, 10)[5:,5:])"
   ]
  },
  {
   "cell_type": "code",
   "execution_count": null,
   "metadata": {
    "collapsed": true
   },
   "outputs": [],
   "source": [
    "# We can also do slices on n-dimensional arrays.\n",
    "# (This gets confusing, but is *extremely* useful for high-dimensioned\n",
    "#  datasets)\n",
    "arr_4d = np.arange(1000).reshape(20,5,10)\n",
    "print(arr_4d[9:,3:,7:])"
   ]
  },
  {
   "cell_type": "code",
   "execution_count": null,
   "metadata": {
    "collapsed": true
   },
   "outputs": [],
   "source": [
    "# Deep copying of arrays can be important\n",
    "a = np.arange(10)\n",
    "b = np.copy(a)\n",
    "a += 10\n",
    "print(a)\n",
    "print(b)"
   ]
  },
  {
   "cell_type": "code",
   "execution_count": null,
   "metadata": {
    "collapsed": true
   },
   "outputs": [],
   "source": [
    "# Universal functions are pretty cool\n",
    "a = np.arange(10)\n",
    "b = (10 * a) + 5\n",
    "print(b)\n",
    "\n",
    "c = np.sin(a / np.pi)\n",
    "print(c)"
   ]
  },
  {
   "cell_type": "markdown",
   "metadata": {},
   "source": [
    "## Pandas\n",
    "* Allows us to work on labeled data very quickly\n",
    "* Mirrors a lot of the practices of core Python, but with a focus on data\n",
    "* Has a very *fast* backend to perform operations much quicker than our naive approaches"
   ]
  },
  {
   "cell_type": "code",
   "execution_count": null,
   "metadata": {
    "collapsed": true
   },
   "outputs": [],
   "source": [
    "# 'Series' in Python can be thought of kindof like NumPy arrays\n",
    "s = pd.Series(np.arange(10, 20))\n",
    "s\n",
    "# Notice how 's' is indexed:"
   ]
  },
  {
   "cell_type": "code",
   "execution_count": null,
   "metadata": {
    "collapsed": true
   },
   "outputs": [],
   "source": [
    "# We can do similar array-level operations as NumPy\n",
    "s += 10\n",
    "print(s)\n",
    "s /= 5\n",
    "print(s)"
   ]
  },
  {
   "cell_type": "code",
   "execution_count": null,
   "metadata": {
    "collapsed": true
   },
   "outputs": [],
   "source": [
    "# The core of Pandas is the DataFrame\n",
    "# DataFrame can be thought of like interactive SQL tables.\n",
    "# We can select by columns, index and reindex the data, do groupby operations,\n",
    "# and many, many other cool things\n",
    "\n",
    "my_df = pd.DataFrame({\n",
    "        'name': ('Tyler', 'Ben'),\n",
    "        'school': ('UIUC', 'UIUC'),\n",
    "        'likes_data': (True, True)\n",
    "    })\n",
    "print(my_df)\n",
    "print(my_df.dtypes) # Series have dtypes just like NumPy"
   ]
  },
  {
   "cell_type": "code",
   "execution_count": null,
   "metadata": {
    "collapsed": true
   },
   "outputs": [],
   "source": [
    "other_df = pd.DataFrame({\n",
    "        'student_id': [random.randint(0, 10000) for _ in range(100)],\n",
    "        'gpa': [random.random() * 4 for _ in range(100)],\n",
    "        'major': [random.choice(['CS', 'CS+Math', 'Stats']) for _ in range(100)],\n",
    "        'in_state': [random.choice([True, False]) for _ in range(100)]\n",
    "    })\n",
    "other_df.head() "
   ]
  },
  {
   "cell_type": "code",
   "execution_count": null,
   "metadata": {
    "collapsed": true
   },
   "outputs": [],
   "source": [
    "other_df.describe()"
   ]
  },
  {
   "cell_type": "code",
   "execution_count": null,
   "metadata": {
    "collapsed": true
   },
   "outputs": [],
   "source": [
    "# We can drill-down into columns easily\n",
    "other_df.gpa\n",
    "other_df['gpa']"
   ]
  },
  {
   "cell_type": "code",
   "execution_count": null,
   "metadata": {
    "collapsed": true
   },
   "outputs": [],
   "source": [
    "# We can select by column values easily too\n",
    "print(other_df[other_df.major == 'CS'])\n",
    "print(other_df[other_df.gpa > 3])"
   ]
  },
  {
   "cell_type": "code",
   "execution_count": null,
   "metadata": {
    "collapsed": true
   },
   "outputs": [],
   "source": [
    "# We can also combine this with a groupby to get more interesting stats\n",
    "print(other_df.groupby('major').mean().gpa)"
   ]
  },
  {
   "cell_type": "code",
   "execution_count": null,
   "metadata": {
    "collapsed": true
   },
   "outputs": [],
   "source": [
    "# We can combine selections too\n",
    "other_df[(other_df.gpa > 3) & (other_df.major == 'Stats')]"
   ]
  },
  {
   "cell_type": "code",
   "execution_count": null,
   "metadata": {
    "collapsed": true
   },
   "outputs": [],
   "source": [
    "# It can sometimes be useful to alter the index of a dataframe\n",
    "other_df.set_index('student_id')"
   ]
  },
  {
   "cell_type": "markdown",
   "metadata": {
    "collapsed": true
   },
   "source": [
    "## Challanges:"
   ]
  },
  {
   "cell_type": "code",
   "execution_count": null,
   "metadata": {
    "collapsed": true
   },
   "outputs": [],
   "source": [
    "titanic_df = pd.read_csv('https://raw.githubusercontent.com/mwaskom/seaborn-data/master/titanic.csv')\n",
    "titanic_df.head()"
   ]
  },
  {
   "cell_type": "markdown",
   "metadata": {},
   "source": [
    "1) Calculate the survival rates of passengers by class (First, Second, Third)\n"
   ]
  },
  {
   "cell_type": "code",
   "execution_count": null,
   "metadata": {
    "collapsed": true
   },
   "outputs": [],
   "source": []
  },
  {
   "cell_type": "markdown",
   "metadata": {},
   "source": [
    "2) Calculate the average fare paid by those who survived compared to the fare paid by those who didn't\n"
   ]
  },
  {
   "cell_type": "code",
   "execution_count": null,
   "metadata": {
    "collapsed": true
   },
   "outputs": [],
   "source": []
  },
  {
   "cell_type": "markdown",
   "metadata": {},
   "source": [
    "3) Plot the ages of the female survivors that embarked at Cherbourg"
   ]
  },
  {
   "cell_type": "code",
   "execution_count": null,
   "metadata": {
    "collapsed": true
   },
   "outputs": [],
   "source": []
  }
 ],
 "metadata": {
  "kernelspec": {
   "display_name": "Python 3",
   "language": "python",
   "name": "python3"
  },
  "language_info": {
   "codemirror_mode": {
    "name": "ipython",
    "version": 3
   },
   "file_extension": ".py",
   "mimetype": "text/x-python",
   "name": "python",
   "nbconvert_exporter": "python",
   "pygments_lexer": "ipython3",
   "version": "3.6.1"
  }
 },
 "nbformat": 4,
 "nbformat_minor": 1
}
