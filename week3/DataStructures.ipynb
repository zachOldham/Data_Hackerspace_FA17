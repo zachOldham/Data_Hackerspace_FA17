{
 "cells": [
  {
   "cell_type": "markdown",
   "metadata": {},
   "source": [
    "# Data Structures / Formats\n",
    "#### Attribution\n",
    "* Airplane Crash Data: https://opendata.socrata.com/Government/Airplane-Crashes-and-Fatalities-Since-1908/q2te-8cvq"
   ]
  },
  {
   "cell_type": "markdown",
   "metadata": {},
   "source": [
    "## Working with Files"
   ]
  },
  {
   "cell_type": "code",
   "execution_count": null,
   "metadata": {
    "collapsed": true
   },
   "outputs": [],
   "source": [
    "# The naive way\n",
    "f1 = open('important_text.txt', 'r')\n",
    "print(f1.read())\n",
    "f1.close()"
   ]
  },
  {
   "cell_type": "code",
   "execution_count": null,
   "metadata": {
    "collapsed": true
   },
   "outputs": [],
   "source": [
    "# The Pythonic (good) way\n",
    "with open('important_text.txt') as f2:\n",
    "    print(f2.read())\n",
    "\n",
    "# No need to call `f2.close`!\n",
    "# However, you can no longer access f2 outside of the context"
   ]
  },
  {
   "cell_type": "code",
   "execution_count": null,
   "metadata": {
    "collapsed": true
   },
   "outputs": [],
   "source": [
    "f2.read()"
   ]
  },
  {
   "cell_type": "markdown",
   "metadata": {},
   "source": [
    "## Working with Data"
   ]
  },
  {
   "cell_type": "markdown",
   "metadata": {},
   "source": [
    "### CSV"
   ]
  },
  {
   "cell_type": "code",
   "execution_count": 1,
   "metadata": {},
   "outputs": [
    {
     "name": "stdout",
     "output_type": "stream",
     "text": [
      "['Date', 'Time', 'Location', 'Operator', 'Flight #', 'Route', 'Type', 'Registration', 'cn/In', 'Aboard', 'Fatalities', 'Ground', 'Summary']\n"
     ]
    }
   ],
   "source": [
    "import csv\n",
    "\n",
    "# Read the data\n",
    "with open('airplane_crashes.csv') as f:\n",
    "    csv_reader = csv.reader(f)\n",
    "    airplane_data = list(csv_reader)\n",
    "print(airplane_data[0])\n"
   ]
  },
  {
   "cell_type": "code",
   "execution_count": null,
   "metadata": {
    "collapsed": true
   },
   "outputs": [],
   "source": [
    "from collections import defaultdict\n",
    "from datetime import datetime\n",
    "\n",
    "# Tabulate the data\n",
    "fatalities_per_year = defaultdict(int)\n",
    "for incident in airplane_data[1:]:\n",
    "    year = datetime(int(incident[0].split('/')[-1]), 1, 1)\n",
    "    num_fatalities = int(incident[11]) if incident[11] else 0\n",
    "    fatalities_per_year[year] += num_fatalities"
   ]
  },
  {
   "cell_type": "code",
   "execution_count": null,
   "metadata": {
    "collapsed": true
   },
   "outputs": [],
   "source": [
    "from matplotlib import pyplot as plt\n",
    "% matplotlib inline\n",
    "\n",
    "# Plot the data\n",
    "plt.scatter(*zip(*fatalities_per_year.items())) # Feed data into pyplot\n",
    "plt.ylim((0,200)) # Remove outliers\n",
    "plt.title(\"Airplane Fatalities per Year\")\n",
    "plt.ylabel(\"Fatalities\")\n",
    "plt.tight_layout()\n"
   ]
  },
  {
   "cell_type": "code",
   "execution_count": null,
   "metadata": {
    "collapsed": true
   },
   "outputs": [],
   "source": [
    "from collections import Counter\n",
    "import pprint\n",
    "\n",
    "aircraft_types = Counter(x[6] for x in airplane_data[1:])\n",
    "print(\"Most common aircraft in crashes:\")\n",
    "pprint.pprint(aircraft_types.most_common(10))\n",
    "\n",
    "fatal_aircraft_types = Counter(x[6] for x in airplane_data[1:] if x[11] and int(x[11]) > 0)\n",
    "print(\"\\nMost common aircraft in fatal crashes:\")\n",
    "pprint.pprint(fatal_aircraft_types.most_common(10))"
   ]
  },
  {
   "cell_type": "markdown",
   "metadata": {},
   "source": [
    "### JSON"
   ]
  },
  {
   "cell_type": "code",
   "execution_count": null,
   "metadata": {
    "collapsed": true
   },
   "outputs": [],
   "source": [
    "import json\n",
    "import requests\n",
    "\n",
    "r = requests.get(\n",
    "    'https://reddit.com/r/all.json',\n",
    "    headers={'User-Agent': ''}\n",
    ")\n",
    "r.text # Unformatted text"
   ]
  },
  {
   "cell_type": "code",
   "execution_count": null,
   "metadata": {
    "collapsed": true
   },
   "outputs": [],
   "source": [
    "reddit_json = json.loads(r.text)\n",
    "reddit_json"
   ]
  },
  {
   "cell_type": "code",
   "execution_count": null,
   "metadata": {
    "collapsed": true
   },
   "outputs": [],
   "source": [
    "# Data exploration\n",
    "print(reddit_json.keys())\n",
    "print(reddit_json['data'].keys())\n",
    "print(reddit_json['data']['children'][0].keys())\n",
    "print(reddit_json['data']['children'][0]['data'].keys())\n",
    "print(reddit_json['data']['children'][0]['data'])"
   ]
  },
  {
   "cell_type": "code",
   "execution_count": null,
   "metadata": {
    "collapsed": true
   },
   "outputs": [],
   "source": [
    "# Extracting scores from data\n",
    "scores = [x['data']['score'] for x in reddit_json['data']['children']]\n",
    "plt.hist(scores)"
   ]
  },
  {
   "cell_type": "code",
   "execution_count": null,
   "metadata": {
    "collapsed": true
   },
   "outputs": [],
   "source": [
    "# Getting more data\n",
    "print(reddit_json['data']['after']) # Remember seeing this?\n",
    "\n",
    "# Spoofing User-Agent\n",
    "headers = {'User-Agent': 'Mozilla/5.0 (Windows NT 6.1) AppleWebKit/537.36 (KHTML, like Gecko) Chrome/41.0.2228.0 Safari/537.36'}\n",
    "\n",
    "data_sets = [reddit_json]\n",
    "before = reddit_json['data']['after']\n",
    "for x in range(10):\n",
    "    r = requests.get('https://reddit.com/r/all/.json?count=100&before=' + before,\n",
    "                     headers=headers)\n",
    "    data_sets.append(r.json())\n",
    "    before = data_sets[-1]['data']['after']"
   ]
  },
  {
   "cell_type": "code",
   "execution_count": null,
   "metadata": {
    "collapsed": true
   },
   "outputs": [],
   "source": [
    "# Nested list comprehensions\n",
    "scores = [x['data']['score']\n",
    "          for y in data_sets \n",
    "          for x in y['data']['children']]\n",
    "\n",
    "print(scores)\n",
    "plt.hist(scores)\n",
    "plt.xlabel(\"Scores\")\n",
    "plt.ylabel(\"Counts\")\n",
    "plt.title(\"Scores of Posts on /r/all\")"
   ]
  },
  {
   "cell_type": "markdown",
   "metadata": {},
   "source": [
    "#### Further Reading\n",
    "Other cool JSON data sources / datasets: https://github.com/jdorfman/awesome-json-datasets"
   ]
  },
  {
   "cell_type": "markdown",
   "metadata": {},
   "source": [
    "## Challenge\n",
    "Parse all the JSON in `parse_them_yourself`.\n",
    "\n",
    "What is this dataset? Can you graph something interesting in this data?"
   ]
  },
  {
   "cell_type": "code",
   "execution_count": null,
   "metadata": {
    "collapsed": true
   },
   "outputs": [],
   "source": [
    "!ls ./parse_them_yourself"
   ]
  },
  {
   "cell_type": "code",
   "execution_count": null,
   "metadata": {
    "collapsed": true
   },
   "outputs": [],
   "source": []
  },
  {
   "cell_type": "code",
   "execution_count": null,
   "metadata": {
    "collapsed": true
   },
   "outputs": [],
   "source": []
  }
 ],
 "metadata": {
  "kernelspec": {
   "display_name": "Python 3",
   "language": "python",
   "name": "python3"
  },
  "language_info": {
   "codemirror_mode": {
    "name": "ipython",
    "version": 3
   },
   "file_extension": ".py",
   "mimetype": "text/x-python",
   "name": "python",
   "nbconvert_exporter": "python",
   "pygments_lexer": "ipython3",
   "version": "3.6.1"
  }
 },
 "nbformat": 4,
 "nbformat_minor": 1
}
